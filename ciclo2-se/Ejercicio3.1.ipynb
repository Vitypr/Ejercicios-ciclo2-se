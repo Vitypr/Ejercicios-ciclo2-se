{
 "cells": [
  {
   "cell_type": "code",
   "execution_count": 1,
   "metadata": {},
   "outputs": [],
   "source": [
    "import time\n",
    "import pandas as pd\n",
    "import numpy as np"
   ]
  },
  {
   "cell_type": "markdown",
   "metadata": {},
   "source": [
    "#### Esta funcion de numpy carga los datos de un archivo de txt "
   ]
  },
  {
   "cell_type": "code",
   "execution_count": 2,
   "metadata": {},
   "outputs": [
    {
     "name": "stdout",
     "output_type": "stream",
     "text": [
      "[ 8. 84. 42. ... 59. 12. 12.]\n"
     ]
    }
   ],
   "source": [
    "wish = np.genfromtxt('costos.txt', delimiter=',')\n",
    "print(wish)"
   ]
  },
  {
   "cell_type": "markdown",
   "metadata": {
    "scrolled": true
   },
   "source": [
    "Con el wish <= \"num\" obtenemos la localizacion especifica de los datos que cumplen con la condición.\n",
    "#### y si lo indexamos llamamos solo los datos que cumplen con la condición."
   ]
  },
  {
   "cell_type": "code",
   "execution_count": 3,
   "metadata": {},
   "outputs": [
    {
     "name": "stdout",
     "output_type": "stream",
     "text": [
      "Duracion: 0.09994125366210938 segundos\n",
      "32869928.0\n"
     ]
    }
   ],
   "source": [
    "inicio = time.time()\n",
    "lista = wish[wish <= 25]\n",
    "resultado = np.sum(lista)\n",
    "\n",
    "print('Duracion: {} segundos'.format(time.time() - inicio))\n",
    "print(resultado)"
   ]
  },
  {
   "cell_type": "code",
   "execution_count": null,
   "metadata": {},
   "outputs": [],
   "source": []
  },
  {
   "cell_type": "code",
   "execution_count": null,
   "metadata": {},
   "outputs": [],
   "source": []
  }
 ],
 "metadata": {
  "kernelspec": {
   "display_name": "Python 3",
   "language": "python",
   "name": "python3"
  },
  "language_info": {
   "codemirror_mode": {
    "name": "ipython",
    "version": 3
   },
   "file_extension": ".py",
   "mimetype": "text/x-python",
   "name": "python",
   "nbconvert_exporter": "python",
   "pygments_lexer": "ipython3",
   "version": "3.6.5"
  }
 },
 "nbformat": 4,
 "nbformat_minor": 2
}
