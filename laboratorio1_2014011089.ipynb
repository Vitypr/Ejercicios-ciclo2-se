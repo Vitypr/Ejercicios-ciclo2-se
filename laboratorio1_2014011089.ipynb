{
 "cells": [
  {
   "cell_type": "code",
   "execution_count": 62,
   "metadata": {},
   "outputs": [],
   "source": [
    "import time\n",
    "import numpy as np"
   ]
  },
  {
   "cell_type": "markdown",
   "metadata": {},
   "source": [
    "Creación de nuestra lista con tamaño, escala y media"
   ]
  },
  {
   "cell_type": "code",
   "execution_count": 63,
   "metadata": {},
   "outputs": [
    {
     "name": "stdout",
     "output_type": "stream",
     "text": [
      "[462.52153874 482.1262064  490.37458791 ... 465.2658938  494.9348455\n",
      " 497.02559534]\n"
     ]
    }
   ],
   "source": [
    "lista = np.random.normal(size=10000000,scale=30,loc=500)\n",
    "print(lista)"
   ]
  },
  {
   "cell_type": "markdown",
   "metadata": {},
   "source": [
    "creación de index con estructura de control repetitiva y condicion "
   ]
  },
  {
   "cell_type": "code",
   "execution_count": 83,
   "metadata": {},
   "outputs": [
    {
     "name": "stdout",
     "output_type": "stream",
     "text": [
      "Suma de lista: 2379243284.3255467\n",
      "Duracion: 6.8724284172058105 segundos\n"
     ]
    }
   ],
   "source": [
    "inicio = time.time()\n",
    "valores_menores=[]\n",
    "for variables in lista:\n",
    "    if (variables < 500.000):\n",
    "        valores_menores.append(variables)\n",
    "\n",
    "print('Suma de lista:', sum(valores_menores))\n",
    "print('Duracion: {} segundos'.format(time.time() - inicio))"
   ]
  },
  {
   "cell_type": "code",
   "execution_count": null,
   "metadata": {},
   "outputs": [],
   "source": []
  }
 ],
 "metadata": {
  "kernelspec": {
   "display_name": "Python 3",
   "language": "python",
   "name": "python3"
  },
  "language_info": {
   "codemirror_mode": {
    "name": "ipython",
    "version": 3
   },
   "file_extension": ".py",
   "mimetype": "text/x-python",
   "name": "python",
   "nbconvert_exporter": "python",
   "pygments_lexer": "ipython3",
   "version": "3.6.5"
  }
 },
 "nbformat": 4,
 "nbformat_minor": 2
}
