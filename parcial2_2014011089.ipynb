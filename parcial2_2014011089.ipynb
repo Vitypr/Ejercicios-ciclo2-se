{
 "cells": [
  {
   "cell_type": "code",
   "execution_count": 20,
   "metadata": {},
   "outputs": [],
   "source": [
    "import time\n",
    "import numpy as np\n",
    "import pandas as pd"
   ]
  },
  {
   "cell_type": "code",
   "execution_count": 21,
   "metadata": {},
   "outputs": [
    {
     "name": "stdout",
     "output_type": "stream",
     "text": [
      "[480.75698265 478.60218481 570.00177132 ... 548.357679   502.65696968\n",
      " 464.88772805]\n"
     ]
    }
   ],
   "source": [
    "lista = np.random.normal(size=10000000,scale=30,loc=500)\n",
    "print(lista)"
   ]
  },
  {
   "cell_type": "code",
   "execution_count": 45,
   "metadata": {},
   "outputs": [
    {
     "name": "stdout",
     "output_type": "stream",
     "text": [
      "Suma de la lista: 2380219058.424309\n",
      "Duracion: 0.26784515380859375 segundos\n"
     ]
    }
   ],
   "source": [
    "inicio = time.time()\n",
    "df = pd.DataFrame({\"lista\": lista[lista < 500.000]})\n",
    "total = df['lista'].sum()\n",
    "\n",
    "print('Suma de la lista:',total)\n",
    "print('Duracion: {} segundos'.format(time.time() - inicio))"
   ]
  },
  {
   "cell_type": "code",
   "execution_count": null,
   "metadata": {},
   "outputs": [],
   "source": []
  },
  {
   "cell_type": "code",
   "execution_count": null,
   "metadata": {},
   "outputs": [],
   "source": []
  }
 ],
 "metadata": {
  "kernelspec": {
   "display_name": "Python 3",
   "language": "python",
   "name": "python3"
  },
  "language_info": {
   "codemirror_mode": {
    "name": "ipython",
    "version": 3
   },
   "file_extension": ".py",
   "mimetype": "text/x-python",
   "name": "python",
   "nbconvert_exporter": "python",
   "pygments_lexer": "ipython3",
   "version": "3.6.5"
  }
 },
 "nbformat": 4,
 "nbformat_minor": 2
}
